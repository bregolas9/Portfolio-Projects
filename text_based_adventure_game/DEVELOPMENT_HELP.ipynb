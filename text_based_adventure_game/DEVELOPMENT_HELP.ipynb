{
 "cells": [
  {
   "attachments": {},
   "cell_type": "markdown",
   "metadata": {},
   "source": [
    "# Helpful Code Snippets for Devlopment"
   ]
  },
  {
   "attachments": {},
   "cell_type": "markdown",
   "metadata": {},
   "source": [
    "### Setting up the Environment\n",
    "\n",
    "1. Clone the repository from GitHub to a folder on your computer.\n",
    "1. Run the virtual environment command below to generate a virtual environment.\n",
    "1. Activate the environment using one of the activation commands based on your system OS.\n",
    "1. Run the install command to get all of the dependencies.\n",
    "\n",
    "Note: using 'python -m pip' instead of just 'pip' ensures that the 'pip' instance being used is from the virtual environment."
   ]
  },
  {
   "attachments": {},
   "cell_type": "markdown",
   "metadata": {},
   "source": [
    "### Virtual Environment Command"
   ]
  },
  {
   "cell_type": "code",
   "execution_count": null,
   "metadata": {
    "vscode": {
     "languageId": "powershell"
    }
   },
   "outputs": [],
   "source": [
    "python -m venv env"
   ]
  },
  {
   "attachments": {},
   "cell_type": "markdown",
   "metadata": {},
   "source": [
    "### Environment Activation Commands"
   ]
  },
  {
   "cell_type": "code",
   "execution_count": null,
   "metadata": {
    "vscode": {
     "languageId": "powershell"
    }
   },
   "outputs": [],
   "source": [
    "# PowerShell (assuming your environment is called env)\n",
    "env/Scripts/activate.ps1\n",
    "\n",
    "# Bash (assuming your environment is called env)\n",
    "source env/Scripts/activate"
   ]
  },
  {
   "attachments": {},
   "cell_type": "markdown",
   "metadata": {},
   "source": [
    "### Installing Package Dependencies"
   ]
  },
  {
   "cell_type": "code",
   "execution_count": null,
   "metadata": {
    "vscode": {
     "languageId": "powershell"
    }
   },
   "outputs": [],
   "source": [
    "# First upgrade PIP\n",
    "python -m pip install --upgrade pip\n",
    "\n",
    "# Install the requirements\n",
    "python -m pip install -r requirements.txt"
   ]
  },
  {
   "attachments": {},
   "cell_type": "markdown",
   "metadata": {},
   "source": [
    "### Running the Game\n",
    "\n",
    "In order to run the game, run the game command below."
   ]
  },
  {
   "cell_type": "code",
   "execution_count": null,
   "metadata": {
    "vscode": {
     "languageId": "powershell"
    }
   },
   "outputs": [],
   "source": [
    "# To run the game at normal speed.\n",
    "python ForkOff.py\n",
    "\n",
    "# To run the game without scroll printing\n",
    "python ForkOff.py -d"
   ]
  },
  {
   "attachments": {},
   "cell_type": "markdown",
   "metadata": {},
   "source": [
    "### Unit Testing with Coverage Report\n",
    "\n",
    "When unit testing, you will typically want to be able to see which lines in your code are not covered by tests. Using a tool called Coverage, it will generate an html file that can be used to write additional tests in a fast, iterative way. Run the command below to get an html output."
   ]
  },
  {
   "cell_type": "code",
   "execution_count": null,
   "metadata": {
    "vscode": {
     "languageId": "powershell"
    }
   },
   "outputs": [],
   "source": [
    "coverage run -m pytest && coverage html"
   ]
  },
  {
   "attachments": {},
   "cell_type": "markdown",
   "metadata": {},
   "source": [
    "### Viewing the Output\n",
    "\n",
    "Once the html file is generated in a directory called \"htmlcov\", you can find the index.html file and drag it to an open chrome browser window to explore uncovered lines. Whenever you run the above command, just refresh the browser page to see if your new tests covered the lines you expected. If you are viewing another web page besides index.html, you may need to navigate back to index.html in order to see updated results on child pages. Sometimes you can just refresh the page, YMMV."
   ]
  },
  {
   "attachments": {},
   "cell_type": "markdown",
   "metadata": {},
   "source": [
    "### Unit Testing without Coverage\n",
    "\n",
    "When you just want to check that the current test suite passes, you can run the command below."
   ]
  },
  {
   "cell_type": "code",
   "execution_count": null,
   "metadata": {
    "vscode": {
     "languageId": "powershell"
    }
   },
   "outputs": [],
   "source": [
    "python -m pytest"
   ]
  },
  {
   "attachments": {},
   "cell_type": "markdown",
   "metadata": {},
   "source": [
    "### Unit Testing with Debugging\n",
    "\n",
    "If you want to debug one of your tests and need to see the current state, you can use the --pdb flag with pytest to enter debugging mode when a test fails. This will help you interact with the current state in the test in order to understand what is happening."
   ]
  },
  {
   "cell_type": "code",
   "execution_count": null,
   "metadata": {
    "vscode": {
     "languageId": "powershell"
    }
   },
   "outputs": [],
   "source": [
    "python -m pytest --pdb"
   ]
  },
  {
   "attachments": {},
   "cell_type": "markdown",
   "metadata": {},
   "source": [
    "### Running the Linter\n",
    "\n",
    "This project uses a linter called \"Black\" and it's very opinionated about how things are formatted. In order to run it enter one of the commands shown below."
   ]
  },
  {
   "cell_type": "code",
   "execution_count": null,
   "metadata": {
    "vscode": {
     "languageId": "powershell"
    }
   },
   "outputs": [],
   "source": [
    "# Format all of the files and folders in the project\n",
    "python -m black .\n",
    "\n",
    "# Format all of the files in the /tests directory\n",
    "python -m black ./tests"
   ]
  },
  {
   "attachments": {},
   "cell_type": "markdown",
   "metadata": {},
   "source": [
    "### Making Commits\n",
    "\n",
    "When making a commit, there are GitHub actions that run on the Remote Repository to ensure linting and tests all pass. Before pushing to commit to the remote branch, run the linter and the unit tests to ensure you'll have a successful commit. If the test coverage is low (less than 100%), add some unit tests using the html coverage tool as shown above."
   ]
  },
  {
   "attachments": {},
   "cell_type": "markdown",
   "metadata": {},
   "source": [
    "### Packaging the Game for Distribution (School Assignments)\n",
    "\n",
    "In order to package the game as part of an assignment, it is important to cleanup some of the unnecessary development files which aren't considered source code. The following steps will guide you through this process.\n",
    "\n",
    "1. Remove any `__pycache__` files.\n",
    "1. Remove any .vscode files.\n",
    "1. Remove any .coverage files from testing.\n",
    "1. Remove any .pytest_cache files.\n",
    "1. Remove the htmlcov folder from testing.\n",
    "1. Remove any files from the save_data folder. It should be empty.\n",
    "1. Remove the env folder. This drastically reduces the zip size.\n",
    "1. Copy the contents of the adventure_game folder to a temporary location.\n",
    "1. Create a directory for any required documentation that should be submitted with the code.\n",
    "1. Zip up the contents into a zip file.\n"
   ]
  },
  {
   "attachments": {},
   "cell_type": "markdown",
   "metadata": {},
   "source": [
    "### Compiling to an Executable\n",
    "\n",
    "In order to package the project into an executable follow these steps.\n",
    "\n",
    "1. Install auto-py-to-exe using: pip install auto-py-to-exe \n",
    "1. (or pip3 if on mac): pip3 install auto-py-to-exe\n",
    "1. From the terminal run: auto-py-to-exe\n",
    "1. Choose the adventure_game.py as the script location\n",
    "1. Choose an .ico file as the image for the exe icon.\n",
    "1. Choose \"console based\"\n",
    "1. Be sure to choose \"one directory\" since we have many folders.\n",
    "1. Click the dropdown for additional files and add the following folders:\n",
    "    - common/\n",
    "    - controllers/\n",
    "    - data/\n",
    "    - save_data/\n",
    "    - game_repository/\n",
    "    - language/\n",
    "    - router/\n",
    "    - services/\n",
    "    - env/\n",
    "1. Under settings, choose an output directory that represents the system you compiled it on\n",
    "    - E.g. ./windows\n",
    "1. Run the build.\n",
    "\n",
    "### Alternate Way For Windows\n",
    "1. Navigate to the root project directory since the paths are relative.\n",
    "1. Type the following in to the terminal.\n",
    "\n",
    "pyinstaller --noconfirm --onedir --console --icon \"./data/image.ico\" --add-data \"./common;common/\" --add-data \"./controllers;controllers/\" --add-data \"./data;data/\" --add-data \"./game_repository;game_repository/\" --add-data \"./language;language/\" --add-data \"./router;router/\" --add-data \"./save_data;save_data/\" --add-data \"./services;services/\" --add-data \"./env;env/\" \"./ForkOff.py\"\n",
    "\n",
    "### Alternate Way For Mac\n",
    "1. Navigate to the root project directory since the paths are relative.\n",
    "1. Type the following in to the terminal.\n",
    "\n",
    "pyinstaller --noconfirm --onedir --console --icon \"./data/image.ico\" --add-data \"./common:common/\" --add-data \"./controllers:controllers/\" --add-data \"./data:data/\" --add-data \"./game_repository:game_repository/\" --add-data \"./language:language/\" --add-data \"./router:router/\" --add-data \"./save_data:save_data/\" --add-data \"./services:services/\" --add-data \"./env:env/\" \"./ForkOff.py\""
   ]
  }
 ],
 "metadata": {
  "kernelspec": {
   "display_name": "env",
   "language": "python",
   "name": "python3"
  },
  "language_info": {
   "name": "python",
   "version": "3.11.3"
  },
  "orig_nbformat": 4
 },
 "nbformat": 4,
 "nbformat_minor": 2
}
